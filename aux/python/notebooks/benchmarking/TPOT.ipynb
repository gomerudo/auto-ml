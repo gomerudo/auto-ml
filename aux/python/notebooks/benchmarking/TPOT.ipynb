{
  "nbformat": 4,
  "nbformat_minor": 0,
  "metadata": {
    "colab": {
      "name": "Hello, Colaboratory",
      "version": "0.3.2",
      "provenance": [],
      "collapsed_sections": [],
      "toc_visible": true,
      "include_colab_link": true
    },
    "kernelspec": {
      "display_name": "Python 3",
      "name": "python3"
    },
    "accelerator": "GPU"
  },
  "cells": [
    {
      "cell_type": "markdown",
      "metadata": {
        "id": "view-in-github",
        "colab_type": "text"
      },
      "source": [
        "[View in Colaboratory](https://colab.research.google.com/github/gomerudo/auto-ml/blob/master/python/notebooks/benchmarking/TPOT.ipynb)"
      ]
    },
    {
      "metadata": {
        "id": "9J7p406abzgl",
        "colab_type": "text"
      },
      "cell_type": "markdown",
      "source": [
        "# TPOT benchmarking"
      ]
    },
    {
      "metadata": {
        "id": "g8Y-xo85B35a",
        "colab_type": "text"
      },
      "cell_type": "markdown",
      "source": [
        "## Installing the packages"
      ]
    },
    {
      "metadata": {
        "id": "OcIQi2UOB_aS",
        "colab_type": "code",
        "colab": {}
      },
      "cell_type": "code",
      "source": [
        "# This installs the main packages\n",
        "!pip install numpy scipy scikit-learn pandas deap update_checker tqdm stopit\n",
        "\n",
        "# This will install TPOT to use the eXtreme Gradient Boosting models. XGBoost is entirely optional\n",
        "!pip install xgboost\n",
        "\n",
        "# Actually installing TPOT\n",
        "!pip install tpot\n",
        "\n",
        "# OpenML\n",
        "!pip install git+https://github.com/renatopp/liac-arff@master\n",
        "!pip install git+https://github.com/openml/openml-python.git@develop\n"
      ],
      "execution_count": 0,
      "outputs": []
    },
    {
      "metadata": {
        "id": "yyKWKieTjyMm",
        "colab_type": "text"
      },
      "cell_type": "markdown",
      "source": [
        "## Running the model on the benchmark datasets"
      ]
    },
    {
      "metadata": {
        "id": "LY5jO69JW_W-",
        "colab_type": "code",
        "colab": {}
      },
      "cell_type": "code",
      "source": [
        "import openml as oml\n",
        "from openml import tasks, runs, datasets\n",
        "from sklearn.model_selection import train_test_split\n",
        "from tpot import TPOTClassifier\n",
        "import time\n",
        "\n",
        "################################################################################\n",
        "########### Function to run a model and return the results as a list ###########\n",
        "################################################################################\n",
        "def runModel(dataset, metric = \"accuracy\", generations = 5, \n",
        "             sparse = False, population_size = 20) :\n",
        "  \n",
        "  # Get the features and the target\n",
        "  X, y = dataset.get_data(target = dataset.default_target_attribute)\n",
        "  # Obtain the train and validation sets with a 3/4 split\n",
        "  X_train, X_val, y_train, y_val = train_test_split(X, y, \n",
        "                                                  train_size = 0.75, \n",
        "                                                  test_size = 0.25) \n",
        "  \n",
        "  print(\"\"\"\n",
        "================================================================================\n",
        "RUNNING TPOT CLASSIFIER FOR DATASET {}\n",
        "================================================================================\n",
        "  \"\"\".format(dataset.dataset_id))\n",
        "  tpot = TPOTClassifier(generations = generations, \n",
        "                        population_size = population_size, verbosity = 2, \n",
        "                        scoring = metric, n_jobs = -1)\n",
        "  if sparse :\n",
        "    tpot.config_dict = 'TPOT sparse'\n",
        "  \n",
        "  start_time = time.time()\n",
        "  tpot.fit(X_train, y_train)\n",
        "  end_time = time.time()\n",
        "\n",
        "  \n",
        "  return [ dataset.dataset_id, end_time - start_time, \n",
        "          tpot.score(X_val, y_val), tpot.fitted_pipeline_ ]\n"
      ],
      "execution_count": 0,
      "outputs": []
    },
    {
      "metadata": {
        "id": "AFEnLcEnWjrM",
        "colab_type": "text"
      },
      "cell_type": "markdown",
      "source": [
        "### Part 1"
      ]
    },
    {
      "metadata": {
        "id": "LG9dRMLOEPcQ",
        "colab_type": "code",
        "colab": {}
      },
      "cell_type": "code",
      "source": [
        "benchmarks_metrics = { 38 : \"roc_auc\", 46 : \"accuracy\", \n",
        "                      179 : \"roc_auc\", 184 : \"accuracy\" } "
      ],
      "execution_count": 0,
      "outputs": []
    },
    {
      "metadata": {
        "id": "gQ1k2gGijriN",
        "colab_type": "code",
        "colab": {
          "base_uri": "https://localhost:8080/",
          "height": 2920
        },
        "outputId": "beabcaff-7893-4f5f-99ae-3cdbc9a410dd"
      },
      "cell_type": "code",
      "source": [
        "################################################################################\n",
        "##################################### MAIN #####################################\n",
        "################################################################################\n",
        "results = []\n",
        "\n",
        "for datasetId, metric in benchmarks_metrics.items():\n",
        "  dataset = oml.datasets.get_dataset(datasetId) \n",
        "  results.append(runModel(dataset, metric, generations = 5))\n"
      ],
      "execution_count": 0,
      "outputs": [
        {
          "output_type": "stream",
          "text": [
            "\n",
            "================================================================================\n",
            "RUNNING TPOT CLASSIFIER FOR DATASET 38\n",
            "================================================================================\n",
            "  \n",
            "Imputing missing values in feature set\n"
          ],
          "name": "stdout"
        },
        {
          "output_type": "stream",
          "text": [
            "Optimization Progress:  33%|███▎      | 40/120 [00:36<01:12,  1.10pipeline/s]"
          ],
          "name": "stderr"
        },
        {
          "output_type": "stream",
          "text": [
            "Generation 1 - Current best internal CV score: 0.9925559218902873\n"
          ],
          "name": "stdout"
        },
        {
          "output_type": "stream",
          "text": [
            "Optimization Progress:  50%|█████     | 60/120 [01:10<01:36,  1.62s/pipeline]"
          ],
          "name": "stderr"
        },
        {
          "output_type": "stream",
          "text": [
            "Generation 2 - Current best internal CV score: 0.9925559218902873\n"
          ],
          "name": "stdout"
        },
        {
          "output_type": "stream",
          "text": [
            "Optimization Progress:  67%|██████▋   | 80/120 [01:37<00:47,  1.18s/pipeline]"
          ],
          "name": "stderr"
        },
        {
          "output_type": "stream",
          "text": [
            "Generation 3 - Current best internal CV score: 0.994292884617962\n"
          ],
          "name": "stdout"
        },
        {
          "output_type": "stream",
          "text": [
            "Optimization Progress:  83%|████████▎ | 100/120 [02:02<00:19,  1.04pipeline/s]"
          ],
          "name": "stderr"
        },
        {
          "output_type": "stream",
          "text": [
            "Generation 4 - Current best internal CV score: 0.994740862852318\n"
          ],
          "name": "stdout"
        },
        {
          "output_type": "stream",
          "text": [
            ""
          ],
          "name": "stderr"
        },
        {
          "output_type": "stream",
          "text": [
            "Generation 5 - Current best internal CV score: 0.995615710398992\n",
            "\n",
            "Best pipeline: XGBClassifier(input_matrix, learning_rate=0.1, max_depth=7, min_child_weight=2, n_estimators=100, nthread=1, subsample=0.9000000000000001)\n",
            "Imputing missing values in feature set\n",
            "\n",
            "================================================================================\n",
            "RUNNING TPOT CLASSIFIER FOR DATASET 46\n",
            "================================================================================\n",
            "  \n"
          ],
          "name": "stdout"
        },
        {
          "output_type": "stream",
          "text": [
            "Optimization Progress:  33%|███▎      | 40/120 [01:04<01:56,  1.46s/pipeline]"
          ],
          "name": "stderr"
        },
        {
          "output_type": "stream",
          "text": [
            "Generation 1 - Current best internal CV score: 0.9473221757322176\n"
          ],
          "name": "stdout"
        },
        {
          "output_type": "stream",
          "text": [
            "Optimization Progress:  50%|█████     | 60/120 [01:46<02:10,  2.17s/pipeline]"
          ],
          "name": "stderr"
        },
        {
          "output_type": "stream",
          "text": [
            "Generation 2 - Current best internal CV score: 0.9519264295676428\n"
          ],
          "name": "stdout"
        },
        {
          "output_type": "stream",
          "text": [
            "Optimization Progress:  67%|██████▋   | 80/120 [02:49<02:24,  3.61s/pipeline]"
          ],
          "name": "stderr"
        },
        {
          "output_type": "stream",
          "text": [
            "Generation 3 - Current best internal CV score: 0.9527597629009762\n"
          ],
          "name": "stdout"
        },
        {
          "output_type": "stream",
          "text": [
            "Optimization Progress:  84%|████████▍ | 101/120 [10:08<07:26, 23.52s/pipeline]"
          ],
          "name": "stderr"
        },
        {
          "output_type": "stream",
          "text": [
            "Generation 4 - Current best internal CV score: 0.9556834030683403\n"
          ],
          "name": "stdout"
        },
        {
          "output_type": "stream",
          "text": [
            ""
          ],
          "name": "stderr"
        },
        {
          "output_type": "stream",
          "text": [
            "Generation 5 - Current best internal CV score: 0.9561122733612273\n",
            "\n",
            "Best pipeline: ExtraTreesClassifier(XGBClassifier(Normalizer(input_matrix, norm=l2), learning_rate=0.5, max_depth=1, min_child_weight=4, n_estimators=100, nthread=1, subsample=0.7500000000000001), bootstrap=False, criterion=gini, max_features=0.8, min_samples_leaf=2, min_samples_split=19, n_estimators=100)\n"
          ],
          "name": "stdout"
        },
        {
          "output_type": "stream",
          "text": [
            "/usr/local/lib/python3.6/dist-packages/sklearn/preprocessing/label.py:151: DeprecationWarning: The truth value of an empty array is ambiguous. Returning False, but in future this will result in an error. Use `array.size > 0` to check that an array is not empty.\n",
            "  if diff:\n"
          ],
          "name": "stderr"
        },
        {
          "output_type": "stream",
          "text": [
            "\n",
            "================================================================================\n",
            "RUNNING TPOT CLASSIFIER FOR DATASET 179\n",
            "================================================================================\n",
            "  \n",
            "Imputing missing values in feature set\n"
          ],
          "name": "stdout"
        },
        {
          "output_type": "stream",
          "text": [
            "Optimization Progress:  34%|███▍      | 41/120 [12:57<50:40, 38.48s/pipeline]"
          ],
          "name": "stderr"
        },
        {
          "output_type": "stream",
          "text": [
            "Generation 1 - Current best internal CV score: 0.90740367894238\n"
          ],
          "name": "stdout"
        },
        {
          "output_type": "stream",
          "text": [
            "Optimization Progress:  51%|█████     | 61/120 [21:24<29:22, 29.88s/pipeline]"
          ],
          "name": "stderr"
        },
        {
          "output_type": "stream",
          "text": [
            "Generation 2 - Current best internal CV score: 0.9083400999338844\n"
          ],
          "name": "stdout"
        },
        {
          "output_type": "stream",
          "text": [
            "Optimization Progress:  68%|██████▊   | 81/120 [31:39<20:49, 32.04s/pipeline]"
          ],
          "name": "stderr"
        },
        {
          "output_type": "stream",
          "text": [
            "Generation 3 - Current best internal CV score: 0.9083400999338844\n"
          ],
          "name": "stdout"
        },
        {
          "output_type": "stream",
          "text": [
            "Optimization Progress:  84%|████████▍ | 101/120 [38:42<06:30, 20.54s/pipeline]"
          ],
          "name": "stderr"
        },
        {
          "output_type": "stream",
          "text": [
            "Generation 4 - Current best internal CV score: 0.9094274815712264\n"
          ],
          "name": "stdout"
        },
        {
          "output_type": "stream",
          "text": [
            ""
          ],
          "name": "stderr"
        },
        {
          "output_type": "stream",
          "text": [
            "Generation 5 - Current best internal CV score: 0.9096284800969592\n",
            "\n",
            "Best pipeline: RandomForestClassifier(XGBClassifier(VarianceThreshold(input_matrix, threshold=0.2), learning_rate=0.1, max_depth=6, min_child_weight=8, n_estimators=100, nthread=1, subsample=0.9000000000000001), bootstrap=True, criterion=gini, max_features=0.25, min_samples_leaf=17, min_samples_split=2, n_estimators=100)\n",
            "Imputing missing values in feature set\n"
          ],
          "name": "stdout"
        },
        {
          "output_type": "stream",
          "text": [
            "/usr/local/lib/python3.6/dist-packages/sklearn/preprocessing/label.py:151: DeprecationWarning: The truth value of an empty array is ambiguous. Returning False, but in future this will result in an error. Use `array.size > 0` to check that an array is not empty.\n",
            "  if diff:\n"
          ],
          "name": "stderr"
        },
        {
          "output_type": "stream",
          "text": [
            "\n",
            "================================================================================\n",
            "RUNNING TPOT CLASSIFIER FOR DATASET 184\n",
            "================================================================================\n",
            "  \n"
          ],
          "name": "stdout"
        },
        {
          "output_type": "stream",
          "text": [
            "Optimization Progress:  38%|███▊      | 45/120 [33:29<1:04:27, 51.56s/pipeline]"
          ],
          "name": "stderr"
        },
        {
          "output_type": "stream",
          "text": [
            "Generation 1 - Current best internal CV score: 0.7033025930422093\n"
          ],
          "name": "stdout"
        },
        {
          "output_type": "stream",
          "text": [
            "Optimization Progress:  55%|█████▌    | 66/120 [52:40<44:09, 49.06s/pipeline]  "
          ],
          "name": "stderr"
        },
        {
          "output_type": "stream",
          "text": [
            "Generation 2 - Current best internal CV score: 0.7033025930422093\n"
          ],
          "name": "stdout"
        },
        {
          "output_type": "stream",
          "text": [
            "Optimization Progress:  72%|███████▏  | 86/120 [1:02:59<19:16, 34.01s/pipeline]"
          ],
          "name": "stderr"
        },
        {
          "output_type": "stream",
          "text": [
            "Generation 3 - Current best internal CV score: 0.7190847866731527\n"
          ],
          "name": "stdout"
        },
        {
          "output_type": "stream",
          "text": [
            "Optimization Progress:  90%|█████████ | 108/120 [1:20:01<10:40, 53.38s/pipeline]"
          ],
          "name": "stderr"
        },
        {
          "output_type": "stream",
          "text": [
            "Generation 4 - Current best internal CV score: 0.7190847866731527\n"
          ],
          "name": "stdout"
        },
        {
          "output_type": "stream",
          "text": [
            ""
          ],
          "name": "stderr"
        },
        {
          "output_type": "stream",
          "text": [
            "Generation 5 - Current best internal CV score: 0.7223636498279549\n",
            "\n",
            "Best pipeline: KNeighborsClassifier(input_matrix, n_neighbors=9, p=1, weights=distance)\n",
            "\n"
          ],
          "name": "stdout"
        }
      ]
    },
    {
      "metadata": {
        "id": "4GxDdOcrOkLw",
        "colab_type": "text"
      },
      "cell_type": "markdown",
      "source": [
        "#### Results"
      ]
    },
    {
      "metadata": {
        "id": "Wnbv0qRyL73C",
        "colab_type": "code",
        "colab": {
          "base_uri": "https://localhost:8080/",
          "height": 360
        },
        "outputId": "d6fca2f7-0a2b-4e8b-a610-a0a4c9870239"
      },
      "cell_type": "code",
      "source": [
        "import pandas as pd\n",
        "pd.set_option('display.width', 1024)\n",
        "pd.set_option('display.max_colwidth', 1000)\n",
        "\n",
        "pd.DataFrame(results, columns = [\"Dataset id\", \"Time\", \"Validation score\", \"Best pipeline\"])"
      ],
      "execution_count": 0,
      "outputs": [
        {
          "output_type": "execute_result",
          "data": {
            "text/html": [
              "<div>\n",
              "<style scoped>\n",
              "    .dataframe tbody tr th:only-of-type {\n",
              "        vertical-align: middle;\n",
              "    }\n",
              "\n",
              "    .dataframe tbody tr th {\n",
              "        vertical-align: top;\n",
              "    }\n",
              "\n",
              "    .dataframe thead th {\n",
              "        text-align: right;\n",
              "    }\n",
              "</style>\n",
              "<table border=\"1\" class=\"dataframe\">\n",
              "  <thead>\n",
              "    <tr style=\"text-align: right;\">\n",
              "      <th></th>\n",
              "      <th>Dataset id</th>\n",
              "      <th>Time</th>\n",
              "      <th>Validation score</th>\n",
              "      <th>Best pipeline</th>\n",
              "    </tr>\n",
              "  </thead>\n",
              "  <tbody>\n",
              "    <tr>\n",
              "      <th>0</th>\n",
              "      <td>38</td>\n",
              "      <td>147.527569</td>\n",
              "      <td>0.998426</td>\n",
              "      <td>Pipeline(memory=None,\\n     steps=[('xgbclassifier', XGBClassifier(base_score=0.5, booster='gbtree', colsample_bylevel=1,\\n       colsample_bytree=1, gamma=0, learning_rate=0.1, max_delta_step=0,\\n       max_depth=7, min_child_weight=2, missing=None, n_estimators=100,\\n       n_jobs=1, nthread=1, objective='binary:logistic', random_state=0,\\n       reg_alpha=0, reg_lambda=1, scale_pos_weight=1, seed=None,\\n       silent=True, subsample=0.9000000000000001))])</td>\n",
              "    </tr>\n",
              "    <tr>\n",
              "      <th>1</th>\n",
              "      <td>46</td>\n",
              "      <td>1000.625428</td>\n",
              "      <td>0.966165</td>\n",
              "      <td>Pipeline(memory=None,\\n     steps=[('normalizer', Normalizer(copy=True, norm='l2')), ('stackingestimator', StackingEstimator(estimator=XGBClassifier(base_score=0.5, booster='gbtree', colsample_bylevel=1,\\n       colsample_bytree=1, gamma=0, learning_rate=0.5, max_delta_step=0,\\n       max_depth=1, min_child_weight=4, missing=Non...imators=100, n_jobs=1,\\n           oob_score=False, random_state=None, verbose=0, warm_start=False))])</td>\n",
              "    </tr>\n",
              "    <tr>\n",
              "      <th>2</th>\n",
              "      <td>179</td>\n",
              "      <td>3190.894094</td>\n",
              "      <td>0.914897</td>\n",
              "      <td>Pipeline(memory=None,\\n     steps=[('variancethreshold', VarianceThreshold(threshold=0.2)), ('stackingestimator', StackingEstimator(estimator=XGBClassifier(base_score=0.5, booster='gbtree', colsample_bylevel=1,\\n       colsample_bytree=1, gamma=0, learning_rate=0.1, max_delta_step=0,\\n       max_depth=6, min_child_weight=8, miss...n_jobs=1,\\n            oob_score=False, random_state=None, verbose=0,\\n            warm_start=False))])</td>\n",
              "    </tr>\n",
              "    <tr>\n",
              "      <th>3</th>\n",
              "      <td>184</td>\n",
              "      <td>6221.501911</td>\n",
              "      <td>0.782435</td>\n",
              "      <td>Pipeline(memory=None,\\n     steps=[('kneighborsclassifier', KNeighborsClassifier(algorithm='auto', leaf_size=30, metric='minkowski',\\n           metric_params=None, n_jobs=1, n_neighbors=9, p=1,\\n           weights='distance'))])</td>\n",
              "    </tr>\n",
              "  </tbody>\n",
              "</table>\n",
              "</div>"
            ],
            "text/plain": [
              "   Dataset id         Time  Validation score                                                                                                                                                                                                                                                                                                                                                                                                                                                                   Best pipeline\n",
              "0          38   147.527569          0.998426  Pipeline(memory=None,\\n     steps=[('xgbclassifier', XGBClassifier(base_score=0.5, booster='gbtree', colsample_bylevel=1,\\n       colsample_bytree=1, gamma=0, learning_rate=0.1, max_delta_step=0,\\n       max_depth=7, min_child_weight=2, missing=None, n_estimators=100,\\n       n_jobs=1, nthread=1, objective='binary:logistic', random_state=0,\\n       reg_alpha=0, reg_lambda=1, scale_pos_weight=1, seed=None,\\n       silent=True, subsample=0.9000000000000001))])\n",
              "1          46  1000.625428          0.966165                             Pipeline(memory=None,\\n     steps=[('normalizer', Normalizer(copy=True, norm='l2')), ('stackingestimator', StackingEstimator(estimator=XGBClassifier(base_score=0.5, booster='gbtree', colsample_bylevel=1,\\n       colsample_bytree=1, gamma=0, learning_rate=0.5, max_delta_step=0,\\n       max_depth=1, min_child_weight=4, missing=Non...imators=100, n_jobs=1,\\n           oob_score=False, random_state=None, verbose=0, warm_start=False))])\n",
              "2         179  3190.894094          0.914897                            Pipeline(memory=None,\\n     steps=[('variancethreshold', VarianceThreshold(threshold=0.2)), ('stackingestimator', StackingEstimator(estimator=XGBClassifier(base_score=0.5, booster='gbtree', colsample_bylevel=1,\\n       colsample_bytree=1, gamma=0, learning_rate=0.1, max_delta_step=0,\\n       max_depth=6, min_child_weight=8, miss...n_jobs=1,\\n            oob_score=False, random_state=None, verbose=0,\\n            warm_start=False))])\n",
              "3         184  6221.501911          0.782435                                                                                                                                                                                                                                           Pipeline(memory=None,\\n     steps=[('kneighborsclassifier', KNeighborsClassifier(algorithm='auto', leaf_size=30, metric='minkowski',\\n           metric_params=None, n_jobs=1, n_neighbors=9, p=1,\\n           weights='distance'))])"
            ]
          },
          "metadata": {
            "tags": []
          },
          "execution_count": 4
        }
      ]
    },
    {
      "metadata": {
        "id": "mTpCnFc0vfVK",
        "colab_type": "text"
      },
      "cell_type": "markdown",
      "source": [
        "### Part 2"
      ]
    },
    {
      "metadata": {
        "id": "FAsBDfdJvenb",
        "colab_type": "code",
        "colab": {}
      },
      "cell_type": "code",
      "source": [
        "benchmarks_metrics2 = { 772 : \"accuracy\", \n",
        "                       917 : \"accuracy\", 1049 : \"roc_auc\" } "
      ],
      "execution_count": 0,
      "outputs": []
    },
    {
      "metadata": {
        "id": "xUveTm62IfbW",
        "colab_type": "code",
        "colab": {
          "base_uri": "https://localhost:8080/",
          "height": 692
        },
        "outputId": "194b6384-67ae-49fb-f154-8682f455e63b"
      },
      "cell_type": "code",
      "source": [
        "results2 = []\n",
        "\n",
        "for datasetId, metric in benchmarks_metrics2.items():\n",
        "  dataset = oml.datasets.get_dataset(datasetId) \n",
        "  results2.append(runModel(dataset, metric, generations = 5))\n"
      ],
      "execution_count": 9,
      "outputs": [
        {
          "output_type": "stream",
          "text": [
            "\n",
            "================================================================================\n",
            "RUNNING TPOT CLASSIFIER FOR DATASET 772\n",
            "================================================================================\n",
            "  \n"
          ],
          "name": "stdout"
        },
        {
          "output_type": "stream",
          "text": [
            "Optimization Progress:  33%|███▎      | 40/120 [00:20<00:50,  1.60pipeline/s]"
          ],
          "name": "stderr"
        },
        {
          "output_type": "stream",
          "text": [
            "Generation 1 - Current best internal CV score: 0.5756086693106477\n"
          ],
          "name": "stdout"
        },
        {
          "output_type": "stream",
          "text": [
            "Optimization Progress:  50%|█████     | 60/120 [00:34<00:42,  1.40pipeline/s]"
          ],
          "name": "stderr"
        },
        {
          "output_type": "stream",
          "text": [
            "Generation 2 - Current best internal CV score: 0.5756086693106477\n"
          ],
          "name": "stdout"
        },
        {
          "output_type": "stream",
          "text": [
            "Optimization Progress:  67%|██████▋   | 80/120 [00:53<00:39,  1.01pipeline/s]"
          ],
          "name": "stderr"
        },
        {
          "output_type": "stream",
          "text": [
            "Generation 3 - Current best internal CV score: 0.5756086693106477\n"
          ],
          "name": "stdout"
        },
        {
          "output_type": "stream",
          "text": [
            "Optimization Progress:  83%|████████▎ | 100/120 [01:07<00:14,  1.36pipeline/s]"
          ],
          "name": "stderr"
        },
        {
          "output_type": "stream",
          "text": [
            "Generation 4 - Current best internal CV score: 0.5756086693106477\n"
          ],
          "name": "stdout"
        },
        {
          "output_type": "stream",
          "text": [
            ""
          ],
          "name": "stderr"
        },
        {
          "output_type": "stream",
          "text": [
            "Generation 5 - Current best internal CV score: 0.5805203970455869\n",
            "\n",
            "Best pipeline: ExtraTreesClassifier(StandardScaler(input_matrix), bootstrap=True, criterion=entropy, max_features=0.25, min_samples_leaf=2, min_samples_split=10, n_estimators=100)\n",
            "\n",
            "================================================================================\n",
            "RUNNING TPOT CLASSIFIER FOR DATASET 917\n",
            "================================================================================\n",
            "  \n"
          ],
          "name": "stdout"
        },
        {
          "output_type": "stream",
          "text": [
            "Optimization Progress:  33%|███▎      | 40/120 [00:19<00:16,  4.85pipeline/s]"
          ],
          "name": "stderr"
        },
        {
          "output_type": "stream",
          "text": [
            "Generation 1 - Current best internal CV score: 0.8893114064328784\n"
          ],
          "name": "stdout"
        },
        {
          "output_type": "stream",
          "text": [
            "Optimization Progress:  50%|█████     | 60/120 [00:35<00:53,  1.12pipeline/s]"
          ],
          "name": "stderr"
        },
        {
          "output_type": "stream",
          "text": [
            "Generation 2 - Current best internal CV score: 0.8906536883120731\n"
          ],
          "name": "stdout"
        },
        {
          "output_type": "stream",
          "text": [
            "Optimization Progress:  67%|██████▋   | 80/120 [01:21<01:40,  2.51s/pipeline]"
          ],
          "name": "stderr"
        },
        {
          "output_type": "stream",
          "text": [
            "Generation 3 - Current best internal CV score: 0.8933293035246012\n"
          ],
          "name": "stdout"
        },
        {
          "output_type": "stream",
          "text": [
            "Optimization Progress:  83%|████████▎ | 100/120 [02:09<00:56,  2.85s/pipeline]"
          ],
          "name": "stderr"
        },
        {
          "output_type": "stream",
          "text": [
            "Generation 4 - Current best internal CV score: 0.8933293035246012\n"
          ],
          "name": "stdout"
        },
        {
          "output_type": "stream",
          "text": [
            ""
          ],
          "name": "stderr"
        },
        {
          "output_type": "stream",
          "text": [
            "Generation 5 - Current best internal CV score: 0.8946538068358594\n",
            "\n",
            "Best pipeline: ExtraTreesClassifier(PolynomialFeatures(RFE(input_matrix, criterion=gini, max_features=0.9000000000000001, n_estimators=100, step=0.9500000000000001), degree=2, include_bias=False, interaction_only=False), bootstrap=False, criterion=entropy, max_features=0.9500000000000001, min_samples_leaf=2, min_samples_split=4, n_estimators=100)\n",
            "\n",
            "================================================================================\n",
            "RUNNING TPOT CLASSIFIER FOR DATASET 1049\n",
            "================================================================================\n",
            "  \n"
          ],
          "name": "stdout"
        },
        {
          "output_type": "stream",
          "text": [
            "Optimization Progress:  33%|███▎      | 40/120 [00:19<00:37,  2.14pipeline/s]"
          ],
          "name": "stderr"
        },
        {
          "output_type": "stream",
          "text": [
            "Generation 1 - Current best internal CV score: 0.9371153250360559\n"
          ],
          "name": "stdout"
        },
        {
          "output_type": "stream",
          "text": [
            "Optimization Progress:  50%|█████     | 60/120 [00:33<00:53,  1.13pipeline/s]"
          ],
          "name": "stderr"
        },
        {
          "output_type": "stream",
          "text": [
            "Generation 2 - Current best internal CV score: 0.940880081192244\n"
          ],
          "name": "stdout"
        },
        {
          "output_type": "stream",
          "text": [
            "Optimization Progress:  67%|██████▋   | 80/120 [01:02<00:44,  1.11s/pipeline]"
          ],
          "name": "stderr"
        },
        {
          "output_type": "stream",
          "text": [
            "Generation 3 - Current best internal CV score: 0.940880081192244\n"
          ],
          "name": "stdout"
        },
        {
          "output_type": "stream",
          "text": [
            "Optimization Progress:  83%|████████▎ | 100/120 [01:19<00:16,  1.23pipeline/s]"
          ],
          "name": "stderr"
        },
        {
          "output_type": "stream",
          "text": [
            "Generation 4 - Current best internal CV score: 0.940880081192244\n"
          ],
          "name": "stdout"
        },
        {
          "output_type": "stream",
          "text": [
            ""
          ],
          "name": "stderr"
        },
        {
          "output_type": "stream",
          "text": [
            "Generation 5 - Current best internal CV score: 0.9416452112600823\n",
            "\n",
            "Best pipeline: GradientBoostingClassifier(LogisticRegression(input_matrix, C=0.01, dual=False, penalty=l1), learning_rate=0.1, max_depth=6, max_features=0.8, min_samples_leaf=6, min_samples_split=11, n_estimators=100, subsample=0.9000000000000001)\n"
          ],
          "name": "stdout"
        }
      ]
    },
    {
      "metadata": {
        "id": "EnCXf2i8voQf",
        "colab_type": "code",
        "colab": {
          "base_uri": "https://localhost:8080/",
          "height": 363
        },
        "outputId": "92872d17-aa9b-4e2d-8c33-8e776f9764a3"
      },
      "cell_type": "code",
      "source": [
        "import pandas as pd\n",
        "pd.set_option('display.width', 1024)\n",
        "pd.set_option('display.max_colwidth', 1000)\n",
        "\n",
        "pd.DataFrame(results2, columns = [\"Dataset id\", \"Time\", \"Validation score\", \"Best pipeline\"])"
      ],
      "execution_count": 10,
      "outputs": [
        {
          "output_type": "execute_result",
          "data": {
            "text/html": [
              "<div>\n",
              "<style scoped>\n",
              "    .dataframe tbody tr th:only-of-type {\n",
              "        vertical-align: middle;\n",
              "    }\n",
              "\n",
              "    .dataframe tbody tr th {\n",
              "        vertical-align: top;\n",
              "    }\n",
              "\n",
              "    .dataframe thead th {\n",
              "        text-align: right;\n",
              "    }\n",
              "</style>\n",
              "<table border=\"1\" class=\"dataframe\">\n",
              "  <thead>\n",
              "    <tr style=\"text-align: right;\">\n",
              "      <th></th>\n",
              "      <th>Dataset id</th>\n",
              "      <th>Time</th>\n",
              "      <th>Validation score</th>\n",
              "      <th>Best pipeline</th>\n",
              "    </tr>\n",
              "  </thead>\n",
              "  <tbody>\n",
              "    <tr>\n",
              "      <th>0</th>\n",
              "      <td>772</td>\n",
              "      <td>85.648197</td>\n",
              "      <td>0.506422</td>\n",
              "      <td>Pipeline(memory=None,\\n     steps=[('standardscaler', StandardScaler(copy=True, with_mean=True, with_std=True)), ('extratreesclassifier', ExtraTreesClassifier(bootstrap=True, class_weight=None, criterion='entropy',\\n           max_depth=None, max_features=0.25, max_leaf_nodes=None,\\n           min_impurity_decrease=0.0, min_impu...imators=100, n_jobs=1,\\n           oob_score=False, random_state=None, verbose=0, warm_start=False))])</td>\n",
              "    </tr>\n",
              "    <tr>\n",
              "      <th>1</th>\n",
              "      <td>917</td>\n",
              "      <td>170.427640</td>\n",
              "      <td>0.904000</td>\n",
              "      <td>Pipeline(memory=None,\\n     steps=[('rfe', RFE(estimator=ExtraTreesClassifier(bootstrap=False, class_weight=None, criterion='gini',\\n           max_depth=None, max_features=0.9000000000000001,\\n           max_leaf_nodes=None, min_impurity_decrease=0.0,\\n           min_impurity_split=None, min_samples_leaf=1,\\n           min_sample...imators=100, n_jobs=1, oob_score=False, random_state=None,\\n           verbose=0, warm_start=False))])</td>\n",
              "    </tr>\n",
              "    <tr>\n",
              "      <th>2</th>\n",
              "      <td>1049</td>\n",
              "      <td>105.912183</td>\n",
              "      <td>0.938437</td>\n",
              "      <td>Pipeline(memory=None,\\n     steps=[('stackingestimator', StackingEstimator(estimator=LogisticRegression(C=0.01, class_weight=None, dual=False, fit_intercept=True,\\n          intercept_scaling=1, max_iter=100, multi_class='ovr', n_jobs=1,\\n          penalty='l1', random_state=None, solver='liblinear', tol=0.0001,\\n          verbos...auto', random_state=None,\\n              subsample=0.9000000000000001, verbose=0, warm_start=False))])</td>\n",
              "    </tr>\n",
              "  </tbody>\n",
              "</table>\n",
              "</div>"
            ],
            "text/plain": [
              "   Dataset id        Time  Validation score                                                                                                                                                                                                                                                                                                                                                                                                                                          Best pipeline\n",
              "0         772   85.648197          0.506422    Pipeline(memory=None,\\n     steps=[('standardscaler', StandardScaler(copy=True, with_mean=True, with_std=True)), ('extratreesclassifier', ExtraTreesClassifier(bootstrap=True, class_weight=None, criterion='entropy',\\n           max_depth=None, max_features=0.25, max_leaf_nodes=None,\\n           min_impurity_decrease=0.0, min_impu...imators=100, n_jobs=1,\\n           oob_score=False, random_state=None, verbose=0, warm_start=False))])\n",
              "1         917  170.427640          0.904000  Pipeline(memory=None,\\n     steps=[('rfe', RFE(estimator=ExtraTreesClassifier(bootstrap=False, class_weight=None, criterion='gini',\\n           max_depth=None, max_features=0.9000000000000001,\\n           max_leaf_nodes=None, min_impurity_decrease=0.0,\\n           min_impurity_split=None, min_samples_leaf=1,\\n           min_sample...imators=100, n_jobs=1, oob_score=False, random_state=None,\\n           verbose=0, warm_start=False))])\n",
              "2        1049  105.912183          0.938437   Pipeline(memory=None,\\n     steps=[('stackingestimator', StackingEstimator(estimator=LogisticRegression(C=0.01, class_weight=None, dual=False, fit_intercept=True,\\n          intercept_scaling=1, max_iter=100, multi_class='ovr', n_jobs=1,\\n          penalty='l1', random_state=None, solver='liblinear', tol=0.0001,\\n          verbos...auto', random_state=None,\\n              subsample=0.9000000000000001, verbose=0, warm_start=False))])"
            ]
          },
          "metadata": {
            "tags": []
          },
          "execution_count": 10
        }
      ]
    },
    {
      "metadata": {
        "id": "Tjv6C4WivtRt",
        "colab_type": "text"
      },
      "cell_type": "markdown",
      "source": [
        "### Part 3"
      ]
    },
    {
      "metadata": {
        "id": "m1C3fR5ivuMm",
        "colab_type": "code",
        "colab": {}
      },
      "cell_type": "code",
      "source": [
        "benchmarks_metrics3 = { 1111 : \"accuracy\", 1120 : \"accuracy\", \n",
        "                       1128 : \"roc_auc\", 293 : \"accuracy\" } "
      ],
      "execution_count": 0,
      "outputs": []
    },
    {
      "metadata": {
        "id": "6R4mMX0Xxc4u",
        "colab_type": "code",
        "colab": {
          "base_uri": "https://localhost:8080/",
          "height": 2591
        },
        "outputId": "daddf344-4bec-4907-d994-07f2fd2a4b54"
      },
      "cell_type": "code",
      "source": [
        "results3 = []\n",
        "\n",
        "for datasetId, metric in benchmarks_metrics3.items():\n",
        "  dataset = oml.datasets.get_dataset(datasetId) \n",
        "  results3.append(runModel(dataset, metric, gener ations = 5))\n"
      ],
      "execution_count": 16,
      "outputs": [
        {
          "output_type": "stream",
          "text": [
            "\n",
            "================================================================================\n",
            "RUNNING TPOT CLASSIFIER FOR DATASET 1111\n",
            "================================================================================\n",
            "  \n",
            "Imputing missing values in feature set\n"
          ],
          "name": "stdout"
        },
        {
          "output_type": "stream",
          "text": [
            "Optimization Progress:  46%|████▌     | 55/120 [1:14:09<1:29:33, 82.67s/pipeline] "
          ],
          "name": "stderr"
        },
        {
          "output_type": "stream",
          "text": [
            "Generation 1 - Current best internal CV score: 0.9826666666666666\n"
          ],
          "name": "stdout"
        },
        {
          "output_type": "stream",
          "text": [
            "Optimization Progress:  68%|██████▊   | 81/120 [1:51:44<1:01:53, 95.21s/pipeline]"
          ],
          "name": "stderr"
        },
        {
          "output_type": "stream",
          "text": [
            "Generation 2 - Current best internal CV score: 0.9826666666666666\n"
          ],
          "name": "stdout"
        },
        {
          "output_type": "stream",
          "text": [
            "Optimization Progress:  88%|████████▊ | 106/120 [2:27:35<17:28, 74.92s/pipeline] "
          ],
          "name": "stderr"
        },
        {
          "output_type": "stream",
          "text": [
            "Generation 3 - Current best internal CV score: 0.9826666666666666\n"
          ],
          "name": "stdout"
        },
        {
          "output_type": "stream",
          "text": [
            "Optimization Progress: 129pipeline [2:59:28, 96.44s/pipeline]"
          ],
          "name": "stderr"
        },
        {
          "output_type": "stream",
          "text": [
            "Generation 4 - Current best internal CV score: 0.9826666666666666\n"
          ],
          "name": "stdout"
        },
        {
          "output_type": "stream",
          "text": [
            ""
          ],
          "name": "stderr"
        },
        {
          "output_type": "stream",
          "text": [
            "Generation 5 - Current best internal CV score: 0.9826666666666666\n",
            "\n",
            "Best pipeline: RandomForestClassifier(input_matrix, bootstrap=True, criterion=entropy, max_features=0.3, min_samples_leaf=6, min_samples_split=6, n_estimators=100)\n",
            "Imputing missing values in feature set\n",
            "\n",
            "================================================================================\n",
            "RUNNING TPOT CLASSIFIER FOR DATASET 1120\n",
            "================================================================================\n",
            "  \n"
          ],
          "name": "stdout"
        },
        {
          "output_type": "stream",
          "text": [
            "Optimization Progress:  33%|███▎      | 40/120 [02:39<07:22,  5.53s/pipeline]"
          ],
          "name": "stderr"
        },
        {
          "output_type": "stream",
          "text": [
            "Generation 1 - Current best internal CV score: 0.8802663862600772\n"
          ],
          "name": "stdout"
        },
        {
          "output_type": "stream",
          "text": [
            "Optimization Progress:  50%|█████     | 60/120 [04:55<07:42,  7.70s/pipeline]"
          ],
          "name": "stderr"
        },
        {
          "output_type": "stream",
          "text": [
            "Generation 2 - Current best internal CV score: 0.8837714686295127\n"
          ],
          "name": "stdout"
        },
        {
          "output_type": "stream",
          "text": [
            "Optimization Progress:  67%|██████▋   | 80/120 [10:15<07:46, 11.67s/pipeline]"
          ],
          "name": "stderr"
        },
        {
          "output_type": "stream",
          "text": [
            "Generation 3 - Current best internal CV score: 0.8837714686295127\n"
          ],
          "name": "stdout"
        },
        {
          "output_type": "stream",
          "text": [
            "Optimization Progress:  83%|████████▎ | 100/120 [13:33<03:29, 10.47s/pipeline]"
          ],
          "name": "stderr"
        },
        {
          "output_type": "stream",
          "text": [
            "Generation 4 - Current best internal CV score: 0.8841219768664563\n"
          ],
          "name": "stdout"
        },
        {
          "output_type": "stream",
          "text": [
            ""
          ],
          "name": "stderr"
        },
        {
          "output_type": "stream",
          "text": [
            "Generation 5 - Current best internal CV score: 0.8841219768664563\n",
            "\n",
            "Best pipeline: GradientBoostingClassifier(input_matrix, learning_rate=0.1, max_depth=10, max_features=0.25, min_samples_leaf=4, min_samples_split=19, n_estimators=100, subsample=0.8500000000000001)\n",
            "\n"
          ],
          "name": "stdout"
        }
      ]
    },
    {
      "metadata": {
        "id": "O-hRZVuAxjbB",
        "colab_type": "code",
        "colab": {
          "base_uri": "https://localhost:8080/",
          "height": 264
        },
        "outputId": "57c79ece-805f-445d-f8c5-4a407e451327"
      },
      "cell_type": "code",
      "source": [
        "import pandas as pd\n",
        "pd.set_option('display.width', 1024)\n",
        "pd.set_option('display.max_colwidth', 1000)\n",
        "\n",
        "pd.DataFrame(results3, columns = [\"Dataset id\", \"Time\", \"Validation score\", \"Best pipeline\"])"
      ],
      "execution_count": 18,
      "outputs": [
        {
          "output_type": "execute_result",
          "data": {
            "text/html": [
              "<div>\n",
              "<style scoped>\n",
              "    .dataframe tbody tr th:only-of-type {\n",
              "        vertical-align: middle;\n",
              "    }\n",
              "\n",
              "    .dataframe tbody tr th {\n",
              "        vertical-align: top;\n",
              "    }\n",
              "\n",
              "    .dataframe thead th {\n",
              "        text-align: right;\n",
              "    }\n",
              "</style>\n",
              "<table border=\"1\" class=\"dataframe\">\n",
              "  <thead>\n",
              "    <tr style=\"text-align: right;\">\n",
              "      <th></th>\n",
              "      <th>Dataset id</th>\n",
              "      <th>Time</th>\n",
              "      <th>Validation score</th>\n",
              "      <th>Best pipeline</th>\n",
              "    </tr>\n",
              "  </thead>\n",
              "  <tbody>\n",
              "    <tr>\n",
              "      <th>0</th>\n",
              "      <td>1111</td>\n",
              "      <td>12860.905980</td>\n",
              "      <td>0.980800</td>\n",
              "      <td>Pipeline(memory=None,\\n     steps=[('randomforestclassifier', RandomForestClassifier(bootstrap=True, class_weight=None, criterion='entropy',\\n            max_depth=None, max_features=0.3, max_leaf_nodes=None,\\n            min_impurity_decrease=0.0, min_impurity_split=None,\\n            min_samples_leaf=6, min_samples_split=6,\\n            min_weight_fraction_leaf=0.0, n_estimators=100, n_jobs=1,\\n            oob_score=False, random_state=None, verbose=0,\\n            warm_start=False))])</td>\n",
              "    </tr>\n",
              "    <tr>\n",
              "      <th>1</th>\n",
              "      <td>1120</td>\n",
              "      <td>1135.952204</td>\n",
              "      <td>0.878023</td>\n",
              "      <td>Pipeline(memory=None,\\n     steps=[('gradientboostingclassifier', GradientBoostingClassifier(criterion='friedman_mse', init=None,\\n              learning_rate=0.1, loss='deviance', max_depth=10,\\n              max_features=0.25, max_leaf_nodes=None,\\n              min_impurity_decrease=0.0, min_impurity_split=None,\\n              ...auto', random_state=None,\\n              subsample=0.8500000000000001, verbose=0, warm_start=False))])</td>\n",
              "    </tr>\n",
              "  </tbody>\n",
              "</table>\n",
              "</div>"
            ],
            "text/plain": [
              "   Dataset id          Time  Validation score                                                                                                                                                                                                                                                                                                                                                                                                                                                                                                 Best pipeline\n",
              "0        1111  12860.905980          0.980800  Pipeline(memory=None,\\n     steps=[('randomforestclassifier', RandomForestClassifier(bootstrap=True, class_weight=None, criterion='entropy',\\n            max_depth=None, max_features=0.3, max_leaf_nodes=None,\\n            min_impurity_decrease=0.0, min_impurity_split=None,\\n            min_samples_leaf=6, min_samples_split=6,\\n            min_weight_fraction_leaf=0.0, n_estimators=100, n_jobs=1,\\n            oob_score=False, random_state=None, verbose=0,\\n            warm_start=False))])\n",
              "1        1120   1135.952204          0.878023                                                         Pipeline(memory=None,\\n     steps=[('gradientboostingclassifier', GradientBoostingClassifier(criterion='friedman_mse', init=None,\\n              learning_rate=0.1, loss='deviance', max_depth=10,\\n              max_features=0.25, max_leaf_nodes=None,\\n              min_impurity_decrease=0.0, min_impurity_split=None,\\n              ...auto', random_state=None,\\n              subsample=0.8500000000000001, verbose=0, warm_start=False))])"
            ]
          },
          "metadata": {
            "tags": []
          },
          "execution_count": 18
        }
      ]
    },
    {
      "metadata": {
        "id": "DI12wSEGQn57",
        "colab_type": "text"
      },
      "cell_type": "markdown",
      "source": [
        "### Part 4"
      ]
    },
    {
      "metadata": {
        "id": "pWF8Vv1AQneH",
        "colab_type": "code",
        "colab": {}
      },
      "cell_type": "code",
      "source": [
        "benchmarks_metrics4 = { 389 : \"accuracy\", 293 : \"accuracy\" } "
      ],
      "execution_count": 0,
      "outputs": []
    },
    {
      "metadata": {
        "id": "39JpNgkgQ1sr",
        "colab_type": "code",
        "colab": {
          "base_uri": "https://localhost:8080/",
          "height": 2355
        },
        "outputId": "b0c67169-7c50-4155-cfeb-0a580679bcee"
      },
      "cell_type": "code",
      "source": [
        "results4 = []\n",
        "\n",
        "for datasetId, metric in benchmarks_metrics4.items():\n",
        "  dataset = oml.datasets.get_dataset(datasetId) \n",
        "  results4.append(runModel(dataset, metric, generations = 5, sparse = True))\n"
      ],
      "execution_count": 27,
      "outputs": [
        {
          "output_type": "stream",
          "text": [
            "\n",
            "================================================================================\n",
            "RUNNING TPOT CLASSIFIER FOR DATASET 389\n",
            "================================================================================\n",
            "  \n"
          ],
          "name": "stdout"
        },
        {
          "output_type": "stream",
          "text": [
            "Optimization Progress:  34%|███▍      | 41/120 [17:24<16:58, 12.89s/pipeline]"
          ],
          "name": "stderr"
        },
        {
          "output_type": "stream",
          "text": [
            "Generation 1 - Current best internal CV score: 0.848791087706009\n"
          ],
          "name": "stdout"
        },
        {
          "output_type": "stream",
          "text": [
            "Optimization Progress:  51%|█████     | 61/120 [25:16<23:14, 23.64s/pipeline]"
          ],
          "name": "stderr"
        },
        {
          "output_type": "stream",
          "text": [
            "Generation 2 - Current best internal CV score: 0.848791087706009\n"
          ],
          "name": "stdout"
        },
        {
          "output_type": "stream",
          "text": [
            "Optimization Progress:  68%|██████▊   | 81/120 [36:18<23:19, 35.88s/pipeline]"
          ],
          "name": "stderr"
        },
        {
          "output_type": "stream",
          "text": [
            "Generation 3 - Current best internal CV score: 0.848791087706009\n"
          ],
          "name": "stdout"
        },
        {
          "output_type": "stream",
          "text": [
            "Optimization Progress:  85%|████████▌ | 102/120 [49:35<10:02, 33.45s/pipeline]"
          ],
          "name": "stderr"
        },
        {
          "output_type": "stream",
          "text": [
            "Generation 4 - Current best internal CV score: 0.848791087706009\n"
          ],
          "name": "stdout"
        },
        {
          "output_type": "stream",
          "text": [
            ""
          ],
          "name": "stderr"
        },
        {
          "output_type": "stream",
          "text": [
            "Generation 5 - Current best internal CV score: 0.855360059265748\n",
            "\n",
            "Best pipeline: XGBClassifier(input_matrix, learning_rate=0.1, max_depth=6, min_child_weight=7, n_estimators=100, nthread=1, subsample=0.8)\n"
          ],
          "name": "stdout"
        },
        {
          "output_type": "stream",
          "text": [
            "/usr/local/lib/python3.6/dist-packages/sklearn/preprocessing/label.py:151: DeprecationWarning: The truth value of an empty array is ambiguous. Returning False, but in future this will result in an error. Use `array.size > 0` to check that an array is not empty.\n",
            "  if diff:\n"
          ],
          "name": "stderr"
        }
      ]
    },
    {
      "metadata": {
        "id": "RJ83oSj2RFPI",
        "colab_type": "code",
        "colab": {
          "base_uri": "https://localhost:8080/",
          "height": 165
        },
        "outputId": "b28e7e42-9086-4b62-d6ce-c0f61a1a6df3"
      },
      "cell_type": "code",
      "source": [
        "import pandas as pd\n",
        "pd.set_option('display.width', 1024)\n",
        "pd.set_option('display.max_colwidth', 1000)\n",
        "\n",
        "pd.DataFrame(results4, columns = [\"Dataset id\", \"Time\", \"Validation score\", \"Best pipeline\"])"
      ],
      "execution_count": 28,
      "outputs": [
        {
          "output_type": "execute_result",
          "data": {
            "text/html": [
              "<div>\n",
              "<style scoped>\n",
              "    .dataframe tbody tr th:only-of-type {\n",
              "        vertical-align: middle;\n",
              "    }\n",
              "\n",
              "    .dataframe tbody tr th {\n",
              "        vertical-align: top;\n",
              "    }\n",
              "\n",
              "    .dataframe thead th {\n",
              "        text-align: right;\n",
              "    }\n",
              "</style>\n",
              "<table border=\"1\" class=\"dataframe\">\n",
              "  <thead>\n",
              "    <tr style=\"text-align: right;\">\n",
              "      <th></th>\n",
              "      <th>Dataset id</th>\n",
              "      <th>Time</th>\n",
              "      <th>Validation score</th>\n",
              "      <th>Best pipeline</th>\n",
              "    </tr>\n",
              "  </thead>\n",
              "  <tbody>\n",
              "    <tr>\n",
              "      <th>0</th>\n",
              "      <td>389</td>\n",
              "      <td>3502.628909</td>\n",
              "      <td>0.853896</td>\n",
              "      <td>Pipeline(memory=None,\\n     steps=[('xgbclassifier', XGBClassifier(base_score=0.5, booster='gbtree', colsample_bylevel=1,\\n       colsample_bytree=1, gamma=0, learning_rate=0.1, max_delta_step=0,\\n       max_depth=6, min_child_weight=7, missing=None, n_estimators=100,\\n       n_jobs=1, nthread=1, objective='multi:softprob', random_state=0,\\n       reg_alpha=0, reg_lambda=1, scale_pos_weight=1, seed=None,\\n       silent=True, subsample=0.8))])</td>\n",
              "    </tr>\n",
              "  </tbody>\n",
              "</table>\n",
              "</div>"
            ],
            "text/plain": [
              "   Dataset id         Time  Validation score                                                                                                                                                                                                                                                                                                                                                                                                                                                   Best pipeline\n",
              "0         389  3502.628909          0.853896  Pipeline(memory=None,\\n     steps=[('xgbclassifier', XGBClassifier(base_score=0.5, booster='gbtree', colsample_bylevel=1,\\n       colsample_bytree=1, gamma=0, learning_rate=0.1, max_delta_step=0,\\n       max_depth=6, min_child_weight=7, missing=None, n_estimators=100,\\n       n_jobs=1, nthread=1, objective='multi:softprob', random_state=0,\\n       reg_alpha=0, reg_lambda=1, scale_pos_weight=1, seed=None,\\n       silent=True, subsample=0.8))])"
            ]
          },
          "metadata": {
            "tags": []
          },
          "execution_count": 28
        }
      ]
    },
    {
      "metadata": {
        "id": "3AYo67bAvyZM",
        "colab_type": "text"
      },
      "cell_type": "markdown",
      "source": [
        "### Part 5"
      ]
    }
  ]
}