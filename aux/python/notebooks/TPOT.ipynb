{
  "nbformat": 4,
  "nbformat_minor": 0,
  "metadata": {
    "colab": {
      "name": "Hello, Colaboratory",
      "version": "0.3.2",
      "provenance": [],
      "collapsed_sections": [],
      "toc_visible": true,
      "include_colab_link": true
    },
    "kernelspec": {
      "display_name": "Python 3",
      "name": "python3"
    },
    "accelerator": "GPU"
  },
  "cells": [
    {
      "cell_type": "markdown",
      "metadata": {
        "id": "view-in-github",
        "colab_type": "text"
      },
      "source": [
        "[View in Colaboratory](https://colab.research.google.com/github/gomerudo/auto-ml/blob/master/python/notebooks/TPOT.ipynb)"
      ]
    },
    {
      "metadata": {
        "id": "9J7p406abzgl",
        "colab_type": "text"
      },
      "cell_type": "markdown",
      "source": [
        "# TPOT exploration"
      ]
    },
    {
      "metadata": {
        "id": "g8Y-xo85B35a",
        "colab_type": "text"
      },
      "cell_type": "markdown",
      "source": [
        "## Installing the packages"
      ]
    },
    {
      "metadata": {
        "id": "OcIQi2UOB_aS",
        "colab_type": "code",
        "colab": {
          "base_uri": "https://localhost:8080/",
          "height": 2349
        },
        "outputId": "f292e71c-8437-4623-a120-aa78de9d814e"
      },
      "cell_type": "code",
      "source": [
        "# This installs the main packages\n",
        "!pip install numpy scipy scikit-learn pandas deap update_checker tqdm stopit\n",
        "\n",
        "# This will install TPOT to use the eXtreme Gradient Boosting models. XGBoost is entirely optional\n",
        "!pip install xgboost\n",
        "\n",
        "# Actually installing TPOT\n",
        "!pip install tpot\n",
        "\n",
        "# OpenML\n",
        "!pip install git+https://github.com/renatopp/liac-arff@master\n",
        "!pip install git+https://github.com/openml/openml-python.git@develop\n"
      ],
      "execution_count": 0,
      "outputs": [
        {
          "output_type": "stream",
          "text": [
            "Requirement already satisfied: numpy in /usr/local/lib/python3.6/dist-packages (1.14.5)\n",
            "Requirement already satisfied: scipy in /usr/local/lib/python3.6/dist-packages (0.19.1)\n",
            "Requirement already satisfied: scikit-learn in /usr/local/lib/python3.6/dist-packages (0.19.2)\n",
            "Requirement already satisfied: pandas in /usr/local/lib/python3.6/dist-packages (0.22.0)\n",
            "Collecting deap\n",
            "\u001b[?25l  Downloading https://files.pythonhosted.org/packages/af/29/e7f2ecbe02997b16a768baed076f5fc4781d7057cd5d9adf7c94027845ba/deap-1.2.2.tar.gz (936kB)\n",
            "\u001b[K    100% |████████████████████████████████| 942kB 7.6MB/s \n",
            "\u001b[?25hCollecting update_checker\n",
            "  Downloading https://files.pythonhosted.org/packages/17/c9/ab11855af164d03be0ff4fddd4c46a5bd44799a9ecc1770e01a669c21168/update_checker-0.16-py2.py3-none-any.whl\n",
            "Requirement already satisfied: tqdm in /usr/local/lib/python3.6/dist-packages (4.25.0)\n",
            "Collecting stopit\n",
            "  Downloading https://files.pythonhosted.org/packages/35/58/e8bb0b0fb05baf07bbac1450c447d753da65f9701f551dca79823ce15d50/stopit-1.1.2.tar.gz\n",
            "Requirement already satisfied: pytz>=2011k in /usr/local/lib/python3.6/dist-packages (from pandas) (2018.5)\n",
            "Requirement already satisfied: python-dateutil>=2 in /usr/local/lib/python3.6/dist-packages (from pandas) (2.5.3)\n",
            "Requirement already satisfied: requests>=2.3.0 in /usr/local/lib/python3.6/dist-packages (from update_checker) (2.18.4)\n",
            "Requirement already satisfied: six>=1.5 in /usr/local/lib/python3.6/dist-packages (from python-dateutil>=2->pandas) (1.11.0)\n",
            "Requirement already satisfied: certifi>=2017.4.17 in /usr/local/lib/python3.6/dist-packages (from requests>=2.3.0->update_checker) (2018.8.24)\n",
            "Requirement already satisfied: urllib3<1.23,>=1.21.1 in /usr/local/lib/python3.6/dist-packages (from requests>=2.3.0->update_checker) (1.22)\n",
            "Requirement already satisfied: idna<2.7,>=2.5 in /usr/local/lib/python3.6/dist-packages (from requests>=2.3.0->update_checker) (2.6)\n",
            "Requirement already satisfied: chardet<3.1.0,>=3.0.2 in /usr/local/lib/python3.6/dist-packages (from requests>=2.3.0->update_checker) (3.0.4)\n",
            "Building wheels for collected packages: deap, stopit\n",
            "  Running setup.py bdist_wheel for deap ... \u001b[?25l-\b \b\\\b \b|\b \b/\b \b-\b \b\\\b \b|\b \b/\b \b-\b \b\\\b \b|\b \bdone\n",
            "\u001b[?25h  Stored in directory: /root/.cache/pip/wheels/22/ea/bf/dc7c8a2262025a0ab5da9ef02282c198be88902791ca0c6658\n",
            "  Running setup.py bdist_wheel for stopit ... \u001b[?25l-\b \bdone\n",
            "\u001b[?25h  Stored in directory: /root/.cache/pip/wheels/3c/85/2b/2580190404636bfc63e8de3dff629c03bb795021e1983a6cc7\n",
            "Successfully built deap stopit\n",
            "Installing collected packages: deap, update-checker, stopit\n",
            "Successfully installed deap-1.2.2 stopit-1.1.2 update-checker-0.16\n",
            "Requirement already satisfied: xgboost in /usr/local/lib/python3.6/dist-packages (0.7.post4)\n",
            "Requirement already satisfied: numpy in /usr/local/lib/python3.6/dist-packages (from xgboost) (1.14.5)\n",
            "Requirement already satisfied: scipy in /usr/local/lib/python3.6/dist-packages (from xgboost) (0.19.1)\n",
            "Collecting tpot\n",
            "\u001b[?25l  Downloading https://files.pythonhosted.org/packages/c5/6c/f1806e5b31d65a195bcd94fd80079318d5a9e54c2239b395404c25496792/TPOT-0.9.5.tar.gz (891kB)\n",
            "\u001b[K    100% |████████████████████████████████| 901kB 8.8MB/s \n",
            "\u001b[?25hRequirement already satisfied: numpy>=1.12.1 in /usr/local/lib/python3.6/dist-packages (from tpot) (1.14.5)\n",
            "Requirement already satisfied: scipy>=0.19.0 in /usr/local/lib/python3.6/dist-packages (from tpot) (0.19.1)\n",
            "Requirement already satisfied: scikit-learn>=0.18.1 in /usr/local/lib/python3.6/dist-packages (from tpot) (0.19.2)\n",
            "Requirement already satisfied: deap>=1.0 in /usr/local/lib/python3.6/dist-packages (from tpot) (1.2.2)\n",
            "Requirement already satisfied: update_checker>=0.16 in /usr/local/lib/python3.6/dist-packages (from tpot) (0.16)\n",
            "Requirement already satisfied: tqdm>=4.11.2 in /usr/local/lib/python3.6/dist-packages (from tpot) (4.25.0)\n",
            "Requirement already satisfied: stopit>=1.1.1 in /usr/local/lib/python3.6/dist-packages (from tpot) (1.1.2)\n",
            "Requirement already satisfied: pandas>=0.20.2 in /usr/local/lib/python3.6/dist-packages (from tpot) (0.22.0)\n",
            "Requirement already satisfied: requests>=2.3.0 in /usr/local/lib/python3.6/dist-packages (from update_checker>=0.16->tpot) (2.18.4)\n",
            "Requirement already satisfied: pytz>=2011k in /usr/local/lib/python3.6/dist-packages (from pandas>=0.20.2->tpot) (2018.5)\n",
            "Requirement already satisfied: python-dateutil>=2 in /usr/local/lib/python3.6/dist-packages (from pandas>=0.20.2->tpot) (2.5.3)\n",
            "Requirement already satisfied: certifi>=2017.4.17 in /usr/local/lib/python3.6/dist-packages (from requests>=2.3.0->update_checker>=0.16->tpot) (2018.8.24)\n",
            "Requirement already satisfied: urllib3<1.23,>=1.21.1 in /usr/local/lib/python3.6/dist-packages (from requests>=2.3.0->update_checker>=0.16->tpot) (1.22)\n",
            "Requirement already satisfied: chardet<3.1.0,>=3.0.2 in /usr/local/lib/python3.6/dist-packages (from requests>=2.3.0->update_checker>=0.16->tpot) (3.0.4)\n",
            "Requirement already satisfied: idna<2.7,>=2.5 in /usr/local/lib/python3.6/dist-packages (from requests>=2.3.0->update_checker>=0.16->tpot) (2.6)\n",
            "Requirement already satisfied: six>=1.5 in /usr/local/lib/python3.6/dist-packages (from python-dateutil>=2->pandas>=0.20.2->tpot) (1.11.0)\n",
            "Building wheels for collected packages: tpot\n",
            "  Running setup.py bdist_wheel for tpot ... \u001b[?25l-\b \b\\\b \bdone\n",
            "\u001b[?25h  Stored in directory: /root/.cache/pip/wheels/97/86/27/698a1366f854d2344fd0f7ee9ef57c8044ec02f182c8a0431e\n",
            "Successfully built tpot\n",
            "Installing collected packages: tpot\n",
            "Successfully installed tpot-0.9.5\n",
            "Collecting git+https://github.com/renatopp/liac-arff@master\n",
            "  Cloning https://github.com/renatopp/liac-arff (to revision master) to /tmp/pip-req-build-7k8gkpgv\n",
            "Building wheels for collected packages: liac-arff\n",
            "  Running setup.py bdist_wheel for liac-arff ... \u001b[?25l-\b \bdone\n",
            "\u001b[?25h  Stored in directory: /tmp/pip-ephem-wheel-cache-4q4qiwx4/wheels/a9/62/c5/9d3e161ad66061d640269ea20a95f79e8ce1482bdf696d42f3\n",
            "Successfully built liac-arff\n",
            "Installing collected packages: liac-arff\n",
            "Successfully installed liac-arff-2.3.1\n",
            "Collecting git+https://github.com/openml/openml-python.git@develop\n",
            "  Cloning https://github.com/openml/openml-python.git (to revision develop) to /tmp/pip-req-build-4qxn0qhx\n",
            "Collecting mock (from openml==0.8.0.dev0)\n",
            "\u001b[?25l  Downloading https://files.pythonhosted.org/packages/e6/35/f187bdf23be87092bd0f1200d43d23076cee4d0dec109f195173fd3ebc79/mock-2.0.0-py2.py3-none-any.whl (56kB)\n",
            "\u001b[K    100% |████████████████████████████████| 61kB 2.7MB/s \n",
            "\u001b[?25hRequirement already satisfied: numpy>=1.6.2 in /usr/local/lib/python3.6/dist-packages (from openml==0.8.0.dev0) (1.14.5)\n",
            "Requirement already satisfied: scipy>=0.13.3 in /usr/local/lib/python3.6/dist-packages (from openml==0.8.0.dev0) (0.19.1)\n",
            "Requirement already satisfied: liac-arff>=2.2.2 in /usr/local/lib/python3.6/dist-packages (from openml==0.8.0.dev0) (2.3.1)\n",
            "Collecting xmltodict (from openml==0.8.0.dev0)\n",
            "  Downloading https://files.pythonhosted.org/packages/42/a9/7e99652c6bc619d19d58cdd8c47560730eb5825d43a7e25db2e1d776ceb7/xmltodict-0.11.0-py2.py3-none-any.whl\n",
            "Collecting nose (from openml==0.8.0.dev0)\n",
            "\u001b[?25l  Downloading https://files.pythonhosted.org/packages/15/d8/dd071918c040f50fa1cf80da16423af51ff8ce4a0f2399b7bf8de45ac3d9/nose-1.3.7-py3-none-any.whl (154kB)\n",
            "\u001b[K    100% |████████████████████████████████| 163kB 5.2MB/s \n",
            "\u001b[?25hRequirement already satisfied: requests in /usr/local/lib/python3.6/dist-packages (from openml==0.8.0.dev0) (2.18.4)\n",
            "Requirement already satisfied: scikit-learn>=0.18 in /usr/local/lib/python3.6/dist-packages (from openml==0.8.0.dev0) (0.19.2)\n",
            "Requirement already satisfied: nbformat in /usr/local/lib/python3.6/dist-packages (from openml==0.8.0.dev0) (4.4.0)\n",
            "Requirement already satisfied: python-dateutil in /usr/local/lib/python3.6/dist-packages (from openml==0.8.0.dev0) (2.5.3)\n",
            "Collecting oslo.concurrency (from openml==0.8.0.dev0)\n",
            "\u001b[?25l  Downloading https://files.pythonhosted.org/packages/e1/1b/d0755bbf5c1d1ca41276810b812e3358ae3c4718c443012001018e0b71ec/oslo.concurrency-3.27.0-py2.py3-none-any.whl (40kB)\n",
            "\u001b[K    100% |████████████████████████████████| 40kB 7.6MB/s \n",
            "\u001b[?25hCollecting pbr>=0.11 (from mock->openml==0.8.0.dev0)\n",
            "\u001b[?25l  Downloading https://files.pythonhosted.org/packages/69/1c/98cba002ed975a91a0294863d9c774cc0ebe38e05bbb65e83314550b1677/pbr-4.2.0-py2.py3-none-any.whl (100kB)\n",
            "\u001b[K    100% |████████████████████████████████| 102kB 5.6MB/s \n",
            "\u001b[?25hRequirement already satisfied: six>=1.9 in /usr/local/lib/python3.6/dist-packages (from mock->openml==0.8.0.dev0) (1.11.0)\n",
            "Requirement already satisfied: idna<2.7,>=2.5 in /usr/local/lib/python3.6/dist-packages (from requests->openml==0.8.0.dev0) (2.6)\n",
            "Requirement already satisfied: chardet<3.1.0,>=3.0.2 in /usr/local/lib/python3.6/dist-packages (from requests->openml==0.8.0.dev0) (3.0.4)\n",
            "Requirement already satisfied: urllib3<1.23,>=1.21.1 in /usr/local/lib/python3.6/dist-packages (from requests->openml==0.8.0.dev0) (1.22)\n",
            "Requirement already satisfied: certifi>=2017.4.17 in /usr/local/lib/python3.6/dist-packages (from requests->openml==0.8.0.dev0) (2018.8.24)\n",
            "Requirement already satisfied: traitlets>=4.1 in /usr/local/lib/python3.6/dist-packages (from nbformat->openml==0.8.0.dev0) (4.3.2)\n",
            "Requirement already satisfied: jsonschema!=2.5.0,>=2.4 in /usr/local/lib/python3.6/dist-packages (from nbformat->openml==0.8.0.dev0) (2.6.0)\n",
            "Requirement already satisfied: jupyter-core in /usr/local/lib/python3.6/dist-packages (from nbformat->openml==0.8.0.dev0) (4.4.0)\n",
            "Requirement already satisfied: ipython-genutils in /usr/local/lib/python3.6/dist-packages (from nbformat->openml==0.8.0.dev0) (0.2.0)\n",
            "Collecting oslo.config>=5.2.0 (from oslo.concurrency->openml==0.8.0.dev0)\n",
            "\u001b[?25l  Downloading https://files.pythonhosted.org/packages/8a/0a/1bcdc4ca2949c8057f9ca86e894b01d6a94de3f33743cec56d04a14d1038/oslo.config-6.4.0-py2.py3-none-any.whl (121kB)\n",
            "\u001b[K    100% |████████████████████████████████| 122kB 8.0MB/s \n",
            "\u001b[?25hCollecting oslo.i18n>=3.15.3 (from oslo.concurrency->openml==0.8.0.dev0)\n",
            "\u001b[?25l  Downloading https://files.pythonhosted.org/packages/37/44/fc8e4466c348e077d116368151a82cd468b8df48f9c0118cef2398bec6f7/oslo.i18n-3.21.0-py2.py3-none-any.whl (40kB)\n",
            "\u001b[K    100% |████████████████████████████████| 40kB 9.5MB/s \n",
            "\u001b[?25hCollecting fasteners>=0.7.0 (from oslo.concurrency->openml==0.8.0.dev0)\n",
            "  Downloading https://files.pythonhosted.org/packages/14/3a/096c7ad18e102d4f219f5dd15951f9728ca5092a3385d2e8f79a7c1e1017/fasteners-0.14.1-py2.py3-none-any.whl\n",
            "Collecting oslo.utils>=3.33.0 (from oslo.concurrency->openml==0.8.0.dev0)\n",
            "\u001b[?25l  Downloading https://files.pythonhosted.org/packages/68/8d/7567226f7f2528e481a9beca6afb1859b264fb74a1e562769e8a26ef53f7/oslo.utils-3.37.0-py2.py3-none-any.whl (92kB)\n",
            "\u001b[K    100% |████████████████████████████████| 92kB 7.2MB/s \n",
            "\u001b[?25hRequirement already satisfied: decorator in /usr/local/lib/python3.6/dist-packages (from traitlets>=4.1->nbformat->openml==0.8.0.dev0) (4.3.0)\n",
            "Collecting stevedore>=1.20.0 (from oslo.config>=5.2.0->oslo.concurrency->openml==0.8.0.dev0)\n",
            "  Downloading https://files.pythonhosted.org/packages/a1/d9/93a975469c53a9ee85de9ec0deb12345aa777748b4c263860668592344fe/stevedore-1.29.0-py2.py3-none-any.whl\n",
            "Requirement already satisfied: PyYAML>=3.12 in /usr/local/lib/python3.6/dist-packages (from oslo.config>=5.2.0->oslo.concurrency->openml==0.8.0.dev0) (3.13)\n",
            "Collecting rfc3986>=0.3.1 (from oslo.config>=5.2.0->oslo.concurrency->openml==0.8.0.dev0)\n",
            "  Downloading https://files.pythonhosted.org/packages/01/2f/dc440bae2b6a185654b5c298f5cc7b172267db692bc24923130262caedac/rfc3986-1.1.0-py2.py3-none-any.whl\n",
            "Collecting debtcollector>=1.2.0 (from oslo.config>=5.2.0->oslo.concurrency->openml==0.8.0.dev0)\n",
            "  Downloading https://files.pythonhosted.org/packages/9b/01/fbbe8ad43ffebe5cd75476448b17825e31c4fc7b9b26519571ec91972c5c/debtcollector-1.20.0-py2.py3-none-any.whl\n",
            "Collecting netaddr>=0.7.18 (from oslo.config>=5.2.0->oslo.concurrency->openml==0.8.0.dev0)\n",
            "\u001b[?25l  Downloading https://files.pythonhosted.org/packages/ba/97/ce14451a9fd7bdb5a397abf99b24a1a6bb7a1a440b019bebd2e9a0dbec74/netaddr-0.7.19-py2.py3-none-any.whl (1.6MB)\n",
            "\u001b[K    100% |████████████████████████████████| 1.6MB 8.1MB/s \n",
            "\u001b[?25hCollecting Babel!=2.4.0,>=2.3.4 (from oslo.i18n>=3.15.3->oslo.concurrency->openml==0.8.0.dev0)\n",
            "\u001b[?25l  Downloading https://files.pythonhosted.org/packages/b8/ad/c6f60602d3ee3d92fbed87675b6fb6a6f9a38c223343ababdb44ba201f10/Babel-2.6.0-py2.py3-none-any.whl (8.1MB)\n",
            "\u001b[K    100% |████████████████████████████████| 8.1MB 4.5MB/s \n",
            "\u001b[?25hCollecting monotonic>=0.1 (from fasteners>=0.7.0->oslo.concurrency->openml==0.8.0.dev0)\n",
            "  Downloading https://files.pythonhosted.org/packages/ac/aa/063eca6a416f397bd99552c534c6d11d57f58f2e94c14780f3bbf818c4cf/monotonic-1.5-py2.py3-none-any.whl\n",
            "Requirement already satisfied: pyparsing>=2.1.0 in /usr/local/lib/python3.6/dist-packages (from oslo.utils>=3.33.0->oslo.concurrency->openml==0.8.0.dev0) (2.2.0)\n",
            "Collecting netifaces>=0.10.4 (from oslo.utils>=3.33.0->oslo.concurrency->openml==0.8.0.dev0)\n",
            "  Downloading https://files.pythonhosted.org/packages/99/9e/ca74e521d0d8dcfa07cbfc83ae36f9c74a57ad5c9269d65d1228c5369aff/netifaces-0.10.7-cp36-cp36m-manylinux1_x86_64.whl\n",
            "Requirement already satisfied: pytz>=2013.6 in /usr/local/lib/python3.6/dist-packages (from oslo.utils>=3.33.0->oslo.concurrency->openml==0.8.0.dev0) (2018.5)\n",
            "Collecting iso8601>=0.1.11 (from oslo.utils>=3.33.0->oslo.concurrency->openml==0.8.0.dev0)\n",
            "  Downloading https://files.pythonhosted.org/packages/ef/57/7162609dab394d38bbc7077b7ba0a6f10fb09d8b7701ea56fa1edc0c4345/iso8601-0.1.12-py2.py3-none-any.whl\n",
            "Requirement already satisfied: wrapt>=1.7.0 in /usr/local/lib/python3.6/dist-packages (from debtcollector>=1.2.0->oslo.config>=5.2.0->oslo.concurrency->openml==0.8.0.dev0) (1.10.11)\n",
            "Building wheels for collected packages: openml\n",
            "  Running setup.py bdist_wheel for openml ... \u001b[?25l-\b \b\\\b \bdone\n",
            "\u001b[?25h  Stored in directory: /tmp/pip-ephem-wheel-cache-j_k_02oy/wheels/62/a0/3f/8196720bf2cc2ff98c483eb3e28983a700b22eb3d9da8f4620\n",
            "Successfully built openml\n",
            "Installing collected packages: pbr, mock, xmltodict, nose, stevedore, Babel, oslo.i18n, rfc3986, debtcollector, netaddr, oslo.config, monotonic, fasteners, netifaces, iso8601, oslo.utils, oslo.concurrency, openml\n",
            "Successfully installed Babel-2.6.0 debtcollector-1.20.0 fasteners-0.14.1 iso8601-0.1.12 mock-2.0.0 monotonic-1.5 netaddr-0.7.19 netifaces-0.10.7 nose-1.3.7 openml-0.8.0.dev0 oslo.concurrency-3.27.0 oslo.config-6.4.0 oslo.i18n-3.21.0 oslo.utils-3.37.0 pbr-4.2.0 rfc3986-1.1.0 stevedore-1.29.0 xmltodict-0.11.0\n"
          ],
          "name": "stdout"
        }
      ]
    },
    {
      "metadata": {
        "id": "yyKWKieTjyMm",
        "colab_type": "text"
      },
      "cell_type": "markdown",
      "source": [
        "## Fetching a public dataset (fraud)"
      ]
    },
    {
      "metadata": {
        "id": "gQ1k2gGijriN",
        "colab_type": "code",
        "colab": {}
      },
      "cell_type": "code",
      "source": [
        "import openml as oml\n",
        "from openml import tasks, runs, datasets\n",
        "from sklearn.model_selection import train_test_split\n",
        "\n",
        "\n",
        "dataset = oml.datasets.get_dataset(1597) # fraud data\n",
        "X, y = dataset.get_data(target = dataset.default_target_attribute)\n",
        "\n",
        "X_train, X_val, y_train, y_val = train_test_split(X, y, \n",
        "                                                  train_size = 0.75, \n",
        "                                                  test_size = 0.25)"
      ],
      "execution_count": 0,
      "outputs": []
    },
    {
      "metadata": {
        "id": "s0_1cjEAYKzj",
        "colab_type": "code",
        "colab": {
          "base_uri": "https://localhost:8080/",
          "height": 68
        },
        "outputId": "4258583e-e60d-4e5d-a782-28acc2400f91"
      },
      "cell_type": "code",
      "source": [
        "print(\"Shape of whole dataset:\", X.shape)\n",
        "print(\"Shape of train dataset:\", X_train.shape)\n",
        "print(\"Shape of validation dataset:\", X_val.shape)"
      ],
      "execution_count": 0,
      "outputs": [
        {
          "output_type": "stream",
          "text": [
            "Shape of whole dataset: (284807, 29)\n",
            "Shape of train dataset: (213605, 29)\n",
            "Shape of validation dataset: (71202, 29)\n"
          ],
          "name": "stdout"
        }
      ]
    },
    {
      "metadata": {
        "id": "9wi5kfGdhK0R",
        "colab_type": "text"
      },
      "cell_type": "markdown",
      "source": [
        "## Testing TPOT"
      ]
    },
    {
      "metadata": {
        "id": "V8vVVncyjYqt",
        "colab_type": "code",
        "colab": {
          "base_uri": "https://localhost:8080/",
          "height": 323
        },
        "outputId": "96adffa7-1d9e-4757-9f28-68d00863bbde"
      },
      "cell_type": "code",
      "source": [
        "from tpot import TPOTClassifier\n",
        "\n",
        "tpot = TPOTClassifier(generations = 5, population_size = 20, verbosity = 2, \n",
        "                      scoring = 'roc_auc', n_jobs = -1)\n",
        "print(\"=====================================================================\")\n",
        "print(\"======================= RUNNING TPOT CLASSIFIER =====================\")\n",
        "print(\"=====================================================================\\n\")\n",
        "tpot.fit(X_train, y_train)"
      ],
      "execution_count": 0,
      "outputs": [
        {
          "output_type": "stream",
          "text": [
            "=====================================================================\n",
            "======================= RUNNING TPOT CLASSIFIER =====================\n",
            "=====================================================================\n",
            "\n"
          ],
          "name": "stdout"
        },
        {
          "output_type": "stream",
          "text": [
            "Optimization Progress:  42%|████▎     | 51/120 [58:16<1:29:25, 77.75s/pipeline]"
          ],
          "name": "stderr"
        },
        {
          "output_type": "stream",
          "text": [
            "Generation 1 - Current best internal CV score: 0.9815067543598548\n"
          ],
          "name": "stdout"
        },
        {
          "output_type": "stream",
          "text": [
            "Optimization Progress:  64%|██████▍   | 77/120 [2:05:58<1:46:16, 148.30s/pipeline]"
          ],
          "name": "stderr"
        },
        {
          "output_type": "stream",
          "text": [
            "Generation 2 - Current best internal CV score: 0.9815067543598548\n"
          ],
          "name": "stdout"
        },
        {
          "output_type": "stream",
          "text": [
            "Optimization Progress:  83%|████████▎ | 100/120 [2:32:37<33:54, 101.73s/pipeline]"
          ],
          "name": "stderr"
        },
        {
          "output_type": "stream",
          "text": [
            "Generation 3 - Current best internal CV score: 0.9815067543598548\n"
          ],
          "name": "stdout"
        },
        {
          "output_type": "stream",
          "text": [
            "Optimization Progress: 125pipeline [3:06:08, 105.72s/pipeline]"
          ],
          "name": "stderr"
        },
        {
          "output_type": "stream",
          "text": [
            "Generation 4 - Current best internal CV score: 0.9815067543598548\n"
          ],
          "name": "stdout"
        },
        {
          "output_type": "stream",
          "text": [
            ""
          ],
          "name": "stderr"
        },
        {
          "output_type": "stream",
          "text": [
            "Generation 5 - Current best internal CV score: 0.9815067543598548\n",
            "\n",
            "Best pipeline: LogisticRegression(FastICA(input_matrix, tol=0.2), C=0.01, dual=True, penalty=l2)\n"
          ],
          "name": "stdout"
        },
        {
          "output_type": "execute_result",
          "data": {
            "text/plain": [
              "TPOTClassifier(config_dict=None, crossover_rate=0.1, cv=5,\n",
              "        disable_update_check=False, early_stop=None, generations=5,\n",
              "        max_eval_time_mins=5, max_time_mins=None, memory=None,\n",
              "        mutation_rate=0.9, n_jobs=-1, offspring_size=None,\n",
              "        periodic_checkpoint_folder=None, population_size=20,\n",
              "        random_state=None, scoring='roc_auc', subsample=1.0,\n",
              "        use_dask=False, verbosity=2, warm_start=False)"
            ]
          },
          "metadata": {
            "tags": []
          },
          "execution_count": 3
        }
      ]
    },
    {
      "metadata": {
        "id": "1cg7kfwiT0_F",
        "colab_type": "text"
      },
      "cell_type": "markdown",
      "source": [
        "## Validation"
      ]
    },
    {
      "metadata": {
        "id": "5sMRSsAnzZdD",
        "colab_type": "code",
        "colab": {
          "base_uri": "https://localhost:8080/",
          "height": 34
        },
        "outputId": "91d26586-ae53-43e1-ec3c-cc311afe3b5a"
      },
      "cell_type": "code",
      "source": [
        "tpot.score(X_val, y_val)"
      ],
      "execution_count": 0,
      "outputs": [
        {
          "output_type": "execute_result",
          "data": {
            "text/plain": [
              "0.9809710500201769"
            ]
          },
          "metadata": {
            "tags": []
          },
          "execution_count": 13
        }
      ]
    },
    {
      "metadata": {
        "id": "VlpDsfgt0AL0",
        "colab_type": "text"
      },
      "cell_type": "markdown",
      "source": [
        "## Print the model"
      ]
    },
    {
      "metadata": {
        "id": "wu_DrpEBBtaP",
        "colab_type": "code",
        "colab": {
          "base_uri": "https://localhost:8080/",
          "height": 374
        },
        "outputId": "1e2defa2-a45f-47a2-e3a2-371a2a851cad"
      },
      "cell_type": "code",
      "source": [
        "tpot.export('tpot_mnist_pipeline.py')\n",
        "\n",
        "!cat tpot_mnist_pipeline.py"
      ],
      "execution_count": 0,
      "outputs": [
        {
          "output_type": "stream",
          "text": [
            "import numpy as np\n",
            "import pandas as pd\n",
            "from sklearn.decomposition import FastICA\n",
            "from sklearn.linear_model import LogisticRegression\n",
            "from sklearn.model_selection import train_test_split\n",
            "from sklearn.pipeline import make_pipeline\n",
            "\n",
            "# NOTE: Make sure that the class is labeled 'target' in the data file\n",
            "tpot_data = pd.read_csv('PATH/TO/DATA/FILE', sep='COLUMN_SEPARATOR', dtype=np.float64)\n",
            "features = tpot_data.drop('target', axis=1).values\n",
            "training_features, testing_features, training_target, testing_target = \\\n",
            "            train_test_split(features, tpot_data['target'].values, random_state=None)\n",
            "\n",
            "# Average CV score on the training set was:0.9815067543598548\n",
            "exported_pipeline = make_pipeline(\n",
            "    FastICA(tol=0.2),\n",
            "    LogisticRegression(C=0.01, dual=True, penalty=\"l2\")\n",
            ")\n",
            "\n",
            "exported_pipeline.fit(training_features, training_target)\n",
            "results = exported_pipeline.predict(testing_features)\n"
          ],
          "name": "stdout"
        }
      ]
    }
  ]
}